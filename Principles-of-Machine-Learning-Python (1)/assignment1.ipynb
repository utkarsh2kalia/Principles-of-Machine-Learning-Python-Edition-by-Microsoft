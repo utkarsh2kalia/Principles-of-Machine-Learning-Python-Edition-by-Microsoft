{
  "cells": [
    {
      "metadata": {
        "trusted": true
      },
      "cell_type": "code",
      "source": "credit = pd.read_csv('AW_AveMonthSpend.csv')\ncredit.head()",
      "execution_count": 1,
      "outputs": [
        {
          "output_type": "error",
          "ename": "NameError",
          "evalue": "name 'pd' is not defined",
          "traceback": [
            "\u001b[0;31m---------------------------------------------------------------------------\u001b[0m",
            "\u001b[0;31mNameError\u001b[0m                                 Traceback (most recent call last)",
            "\u001b[0;32m<ipython-input-1-bde06cae98db>\u001b[0m in \u001b[0;36m<module>\u001b[0;34m\u001b[0m\n\u001b[0;32m----> 1\u001b[0;31m \u001b[0mcredit\u001b[0m \u001b[0;34m=\u001b[0m \u001b[0mpd\u001b[0m\u001b[0;34m.\u001b[0m\u001b[0mread_csv\u001b[0m\u001b[0;34m(\u001b[0m\u001b[0;34m'AW_AveMonthSpend.csv'\u001b[0m\u001b[0;34m)\u001b[0m\u001b[0;34m\u001b[0m\u001b[0m\n\u001b[0m\u001b[1;32m      2\u001b[0m \u001b[0mcredit\u001b[0m\u001b[0;34m.\u001b[0m\u001b[0mhead\u001b[0m\u001b[0;34m(\u001b[0m\u001b[0;34m)\u001b[0m\u001b[0;34m\u001b[0m\u001b[0m\n",
            "\u001b[0;31mNameError\u001b[0m: name 'pd' is not defined"
          ]
        }
      ]
    },
    {
      "metadata": {
        "trusted": true
      },
      "cell_type": "code",
      "source": "import pandas as pd\nimport matplotlib.pyplot as plt\nimport seaborn as sns\nimport numpy as np\nimport numpy.random as nr\nimport math\n\n%matplotlib inline\n",
      "execution_count": 2,
      "outputs": []
    },
    {
      "metadata": {
        "trusted": true
      },
      "cell_type": "code",
      "source": "credit = pd.read_csv('AW_AveMonthSpend.csv')\ncredit.head()",
      "execution_count": 3,
      "outputs": [
        {
          "output_type": "execute_result",
          "execution_count": 3,
          "data": {
            "text/html": "<div>\n<style scoped>\n    .dataframe tbody tr th:only-of-type {\n        vertical-align: middle;\n    }\n\n    .dataframe tbody tr th {\n        vertical-align: top;\n    }\n\n    .dataframe thead th {\n        text-align: right;\n    }\n</style>\n<table border=\"1\" class=\"dataframe\">\n  <thead>\n    <tr style=\"text-align: right;\">\n      <th></th>\n      <th>CustomerID</th>\n      <th>AveMonthSpend</th>\n    </tr>\n  </thead>\n  <tbody>\n    <tr>\n      <th>0</th>\n      <td>11000</td>\n      <td>89</td>\n    </tr>\n    <tr>\n      <th>1</th>\n      <td>11001</td>\n      <td>117</td>\n    </tr>\n    <tr>\n      <th>2</th>\n      <td>11002</td>\n      <td>123</td>\n    </tr>\n    <tr>\n      <th>3</th>\n      <td>11003</td>\n      <td>50</td>\n    </tr>\n    <tr>\n      <th>4</th>\n      <td>11004</td>\n      <td>95</td>\n    </tr>\n  </tbody>\n</table>\n</div>",
            "text/plain": "   CustomerID  AveMonthSpend\n0       11000             89\n1       11001            117\n2       11002            123\n3       11003             50\n4       11004             95"
          },
          "metadata": {}
        }
      ]
    },
    {
      "metadata": {
        "trusted": true
      },
      "cell_type": "code",
      "source": "print(credit.shape)\nprint(credit.CustomerID.unique().shape)",
      "execution_count": 4,
      "outputs": [
        {
          "output_type": "stream",
          "text": "(16519, 2)\n(16404,)\n",
          "name": "stdout"
        }
      ]
    },
    {
      "metadata": {
        "trusted": true
      },
      "cell_type": "code",
      "source": "credit.drop_duplicates(subset = 'CustomerID', keep = 'first', inplace = True)\nprint(credit.shape)\nprint(credit.CustomerID.unique().shape)",
      "execution_count": 6,
      "outputs": [
        {
          "output_type": "stream",
          "text": "(16404, 2)\n(16404,)\n",
          "name": "stdout"
        }
      ]
    },
    {
      "metadata": {
        "trusted": true
      },
      "cell_type": "code",
      "source": "credit['AveMonthSpend'].min()",
      "execution_count": 8,
      "outputs": [
        {
          "output_type": "execute_result",
          "execution_count": 8,
          "data": {
            "text/plain": "22"
          },
          "metadata": {}
        }
      ]
    },
    {
      "metadata": {
        "trusted": true
      },
      "cell_type": "code",
      "source": "credit['AveMonthSpend'].max()",
      "execution_count": 7,
      "outputs": [
        {
          "output_type": "execute_result",
          "execution_count": 7,
          "data": {
            "text/plain": "176"
          },
          "metadata": {}
        }
      ]
    },
    {
      "metadata": {
        "trusted": true
      },
      "cell_type": "code",
      "source": "credit['AveMonthSpend'].std()",
      "execution_count": 9,
      "outputs": [
        {
          "output_type": "execute_result",
          "execution_count": 9,
          "data": {
            "text/plain": "27.269568136558828"
          },
          "metadata": {}
        }
      ]
    },
    {
      "metadata": {
        "trusted": true
      },
      "cell_type": "code",
      "source": "credit['AveMonthSpend'].median()",
      "execution_count": 10,
      "outputs": [
        {
          "output_type": "execute_result",
          "execution_count": 10,
          "data": {
            "text/plain": "68.0"
          },
          "metadata": {}
        }
      ]
    },
    {
      "metadata": {
        "trusted": true
      },
      "cell_type": "code",
      "source": "credit['AveMonthSpend'].mean()",
      "execution_count": 11,
      "outputs": [
        {
          "output_type": "execute_result",
          "execution_count": 11,
          "data": {
            "text/plain": "72.3899049012436"
          },
          "metadata": {}
        }
      ]
    },
    {
      "metadata": {
        "trusted": true
      },
      "cell_type": "code",
      "source": "biker=pd.read_csv('AW_BikeBuyer.csv')\nbiker.head()",
      "execution_count": 12,
      "outputs": [
        {
          "output_type": "execute_result",
          "execution_count": 12,
          "data": {
            "text/html": "<div>\n<style scoped>\n    .dataframe tbody tr th:only-of-type {\n        vertical-align: middle;\n    }\n\n    .dataframe tbody tr th {\n        vertical-align: top;\n    }\n\n    .dataframe thead th {\n        text-align: right;\n    }\n</style>\n<table border=\"1\" class=\"dataframe\">\n  <thead>\n    <tr style=\"text-align: right;\">\n      <th></th>\n      <th>CustomerID</th>\n      <th>BikeBuyer</th>\n    </tr>\n  </thead>\n  <tbody>\n    <tr>\n      <th>0</th>\n      <td>11000</td>\n      <td>0</td>\n    </tr>\n    <tr>\n      <th>1</th>\n      <td>11001</td>\n      <td>1</td>\n    </tr>\n    <tr>\n      <th>2</th>\n      <td>11002</td>\n      <td>0</td>\n    </tr>\n    <tr>\n      <th>3</th>\n      <td>11003</td>\n      <td>0</td>\n    </tr>\n    <tr>\n      <th>4</th>\n      <td>11004</td>\n      <td>1</td>\n    </tr>\n  </tbody>\n</table>\n</div>",
            "text/plain": "   CustomerID  BikeBuyer\n0       11000          0\n1       11001          1\n2       11002          0\n3       11003          0\n4       11004          1"
          },
          "metadata": {}
        }
      ]
    },
    {
      "metadata": {
        "trusted": true
      },
      "cell_type": "code",
      "source": "AdvWorksCusts.csv",
      "execution_count": 13,
      "outputs": [
        {
          "output_type": "stream",
          "text": "(16519, 2)\n(16404,)\n",
          "name": "stdout"
        }
      ]
    },
    {
      "metadata": {
        "trusted": true
      },
      "cell_type": "code",
      "source": "biker.drop_duplicates(subset = 'CustomerID', keep = 'first', inplace = True)\nprint(biker.shape)\nprint(biker.CustomerID.unique().shape)",
      "execution_count": 14,
      "outputs": [
        {
          "output_type": "stream",
          "text": "(16404, 2)\n(16404,)\n",
          "name": "stdout"
        }
      ]
    },
    {
      "metadata": {
        "trusted": true
      },
      "cell_type": "code",
      "source": "biker.dtypes",
      "execution_count": 15,
      "outputs": [
        {
          "output_type": "execute_result",
          "execution_count": 15,
          "data": {
            "text/plain": "CustomerID    int64\nBikeBuyer     int64\ndtype: object"
          },
          "metadata": {}
        }
      ]
    },
    {
      "metadata": {
        "trusted": true
      },
      "cell_type": "code",
      "source": "for col in biker.columns:\n    if biker[col].dtype == 'int64':\n        count = 0\n        count = [count + 1 for x in biker[col] if x == 0]\n        print(col + ' ' + str(sum(count)))",
      "execution_count": 19,
      "outputs": [
        {
          "output_type": "stream",
          "text": "CustomerID 0\nBikeBuyer 10953\n",
          "name": "stdout"
        }
      ]
    },
    {
      "metadata": {
        "trusted": true
      },
      "cell_type": "code",
      "source": "income=pd.read_csv(\"AdvWorksCusts.csv\")\nincome.head()",
      "execution_count": 20,
      "outputs": [
        {
          "output_type": "execute_result",
          "execution_count": 20,
          "data": {
            "text/html": "<div>\n<style scoped>\n    .dataframe tbody tr th:only-of-type {\n        vertical-align: middle;\n    }\n\n    .dataframe tbody tr th {\n        vertical-align: top;\n    }\n\n    .dataframe thead th {\n        text-align: right;\n    }\n</style>\n<table border=\"1\" class=\"dataframe\">\n  <thead>\n    <tr style=\"text-align: right;\">\n      <th></th>\n      <th>CustomerID</th>\n      <th>Title</th>\n      <th>FirstName</th>\n      <th>MiddleName</th>\n      <th>LastName</th>\n      <th>Suffix</th>\n      <th>AddressLine1</th>\n      <th>AddressLine2</th>\n      <th>City</th>\n      <th>StateProvinceName</th>\n      <th>...</th>\n      <th>BirthDate</th>\n      <th>Education</th>\n      <th>Occupation</th>\n      <th>Gender</th>\n      <th>MaritalStatus</th>\n      <th>HomeOwnerFlag</th>\n      <th>NumberCarsOwned</th>\n      <th>NumberChildrenAtHome</th>\n      <th>TotalChildren</th>\n      <th>YearlyIncome</th>\n    </tr>\n  </thead>\n  <tbody>\n    <tr>\n      <th>0</th>\n      <td>11000</td>\n      <td>NaN</td>\n      <td>Jon</td>\n      <td>V</td>\n      <td>Yang</td>\n      <td>NaN</td>\n      <td>3761 N. 14th St</td>\n      <td>NaN</td>\n      <td>Rockhampton</td>\n      <td>Queensland</td>\n      <td>...</td>\n      <td>1966-04-08</td>\n      <td>Bachelors</td>\n      <td>Professional</td>\n      <td>M</td>\n      <td>M</td>\n      <td>1</td>\n      <td>0</td>\n      <td>0</td>\n      <td>2</td>\n      <td>137947</td>\n    </tr>\n    <tr>\n      <th>1</th>\n      <td>11001</td>\n      <td>NaN</td>\n      <td>Eugene</td>\n      <td>L</td>\n      <td>Huang</td>\n      <td>NaN</td>\n      <td>2243 W St.</td>\n      <td>NaN</td>\n      <td>Seaford</td>\n      <td>Victoria</td>\n      <td>...</td>\n      <td>1965-05-14</td>\n      <td>Bachelors</td>\n      <td>Professional</td>\n      <td>M</td>\n      <td>S</td>\n      <td>0</td>\n      <td>1</td>\n      <td>3</td>\n      <td>3</td>\n      <td>101141</td>\n    </tr>\n    <tr>\n      <th>2</th>\n      <td>11002</td>\n      <td>NaN</td>\n      <td>Ruben</td>\n      <td>NaN</td>\n      <td>Torres</td>\n      <td>NaN</td>\n      <td>5844 Linden Land</td>\n      <td>NaN</td>\n      <td>Hobart</td>\n      <td>Tasmania</td>\n      <td>...</td>\n      <td>1965-08-12</td>\n      <td>Bachelors</td>\n      <td>Professional</td>\n      <td>M</td>\n      <td>M</td>\n      <td>1</td>\n      <td>1</td>\n      <td>3</td>\n      <td>3</td>\n      <td>91945</td>\n    </tr>\n    <tr>\n      <th>3</th>\n      <td>11003</td>\n      <td>NaN</td>\n      <td>Christy</td>\n      <td>NaN</td>\n      <td>Zhu</td>\n      <td>NaN</td>\n      <td>1825 Village Pl.</td>\n      <td>NaN</td>\n      <td>North Ryde</td>\n      <td>New South Wales</td>\n      <td>...</td>\n      <td>1968-02-15</td>\n      <td>Bachelors</td>\n      <td>Professional</td>\n      <td>F</td>\n      <td>S</td>\n      <td>0</td>\n      <td>1</td>\n      <td>0</td>\n      <td>0</td>\n      <td>86688</td>\n    </tr>\n    <tr>\n      <th>4</th>\n      <td>11004</td>\n      <td>NaN</td>\n      <td>Elizabeth</td>\n      <td>NaN</td>\n      <td>Johnson</td>\n      <td>NaN</td>\n      <td>7553 Harness Circle</td>\n      <td>NaN</td>\n      <td>Wollongong</td>\n      <td>New South Wales</td>\n      <td>...</td>\n      <td>1968-08-08</td>\n      <td>Bachelors</td>\n      <td>Professional</td>\n      <td>F</td>\n      <td>S</td>\n      <td>1</td>\n      <td>4</td>\n      <td>5</td>\n      <td>5</td>\n      <td>92771</td>\n    </tr>\n  </tbody>\n</table>\n<p>5 rows × 23 columns</p>\n</div>",
            "text/plain": "   CustomerID Title  FirstName MiddleName LastName Suffix  \\\n0       11000   NaN        Jon          V     Yang    NaN   \n1       11001   NaN     Eugene          L    Huang    NaN   \n2       11002   NaN      Ruben        NaN   Torres    NaN   \n3       11003   NaN    Christy        NaN      Zhu    NaN   \n4       11004   NaN  Elizabeth        NaN  Johnson    NaN   \n\n          AddressLine1 AddressLine2         City StateProvinceName  \\\n0      3761 N. 14th St          NaN  Rockhampton        Queensland   \n1           2243 W St.          NaN      Seaford          Victoria   \n2     5844 Linden Land          NaN       Hobart          Tasmania   \n3     1825 Village Pl.          NaN   North Ryde   New South Wales   \n4  7553 Harness Circle          NaN   Wollongong   New South Wales   \n\n       ...        BirthDate   Education    Occupation Gender MaritalStatus  \\\n0      ...       1966-04-08  Bachelors   Professional      M             M   \n1      ...       1965-05-14  Bachelors   Professional      M             S   \n2      ...       1965-08-12  Bachelors   Professional      M             M   \n3      ...       1968-02-15  Bachelors   Professional      F             S   \n4      ...       1968-08-08  Bachelors   Professional      F             S   \n\n  HomeOwnerFlag NumberCarsOwned NumberChildrenAtHome  TotalChildren  \\\n0             1               0                    0              2   \n1             0               1                    3              3   \n2             1               1                    3              3   \n3             0               1                    0              0   \n4             1               4                    5              5   \n\n   YearlyIncome  \n0        137947  \n1        101141  \n2         91945  \n3         86688  \n4         92771  \n\n[5 rows x 23 columns]"
          },
          "metadata": {}
        }
      ]
    },
    {
      "metadata": {
        "trusted": true
      },
      "cell_type": "code",
      "source": "income.drop_duplicates(subset = 'CustomerID', keep = 'first', inplace = True)\nprint(income.shape)\nprint(income.CustomerID.unique().shape)",
      "execution_count": 21,
      "outputs": [
        {
          "output_type": "stream",
          "text": "(16404, 23)\n(16404,)\n",
          "name": "stdout"
        }
      ]
    },
    {
      "metadata": {
        "trusted": true
      },
      "cell_type": "code",
      "source": "income.loc[income['Occupation'] == 'Professional', 'YearlyIncome'].median()",
      "execution_count": 22,
      "outputs": [
        {
          "output_type": "execute_result",
          "execution_count": 22,
          "data": {
            "text/plain": "99051.5"
          },
          "metadata": {}
        }
      ]
    },
    {
      "metadata": {
        "trusted": true
      },
      "cell_type": "code",
      "source": "income.loc[income['Occupation'] == 'Clerical', 'YearlyIncome'].median()",
      "execution_count": 23,
      "outputs": [
        {
          "output_type": "execute_result",
          "execution_count": 23,
          "data": {
            "text/plain": "49481.0"
          },
          "metadata": {}
        }
      ]
    },
    {
      "metadata": {
        "trusted": true
      },
      "cell_type": "code",
      "source": "\n\nincome.loc[income['Occupation'] == 'Manual', 'YearlyIncome'].median()",
      "execution_count": 24,
      "outputs": [
        {
          "output_type": "execute_result",
          "execution_count": 24,
          "data": {
            "text/plain": "21722.0"
          },
          "metadata": {}
        }
      ]
    },
    {
      "metadata": {
        "trusted": true
      },
      "cell_type": "code",
      "source": "income.loc[income['Occupation'] == 'Skilled Manual', 'YearlyIncome'].median()",
      "execution_count": 25,
      "outputs": [
        {
          "output_type": "execute_result",
          "execution_count": 25,
          "data": {
            "text/plain": "66471.5"
          },
          "metadata": {}
        }
      ]
    },
    {
      "metadata": {
        "trusted": true
      },
      "cell_type": "code",
      "source": "income.loc[income['Occupation'] == 'Management', 'YearlyIncome'].median()",
      "execution_count": 26,
      "outputs": [
        {
          "output_type": "execute_result",
          "execution_count": 26,
          "data": {
            "text/plain": "118781.0"
          },
          "metadata": {}
        }
      ]
    },
    {
      "metadata": {
        "trusted": true
      },
      "cell_type": "code",
      "source": "",
      "execution_count": null,
      "outputs": []
    }
  ],
  "metadata": {
    "kernelspec": {
      "name": "python3",
      "display_name": "Python 3",
      "language": "python"
    },
    "language_info": {
      "mimetype": "text/x-python",
      "nbconvert_exporter": "python",
      "name": "python",
      "pygments_lexer": "ipython3",
      "version": "3.6.6",
      "file_extension": ".py",
      "codemirror_mode": {
        "version": 3,
        "name": "ipython"
      }
    }
  },
  "nbformat": 4,
  "nbformat_minor": 2
}